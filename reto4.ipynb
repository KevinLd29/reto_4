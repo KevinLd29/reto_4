{
 "cells": [
  {
   "cell_type": "code",
   "execution_count": 1,
   "metadata": {},
   "outputs": [
    {
     "name": "stdout",
     "output_type": "stream",
     "text": [
      "False\n"
     ]
    }
   ],
   "source": [
    "def esVocalAscii(num):\n",
    "    vocales = ['a', 'e', 'i', 'o', 'u']\n",
    "    return chr(num) in vocales\n",
    "\n",
    "numero = int(input(\"Introduce un número entero: \"))\n",
    "print(esVocalAscii(numero))"
   ]
  },
  {
   "cell_type": "code",
   "execution_count": 3,
   "metadata": {},
   "outputs": [
    {
     "name": "stdout",
     "output_type": "stream",
     "text": [
      "True\n"
     ]
    }
   ],
   "source": [
    "def esAsciiPar(cadena):\n",
    "    return ord(cadena[0]) % 2 == 0\n",
    "\n",
    "cadena = input(\"Introduce una cadena de longitud 1: \")\n",
    "print(esAsciiPar(cadena))\n"
   ]
  },
  {
   "cell_type": "code",
   "execution_count": 5,
   "metadata": {},
   "outputs": [
    {
     "name": "stdout",
     "output_type": "stream",
     "text": [
      "False\n"
     ]
    }
   ],
   "source": [
    "def esDigito(caracter):\n",
    "    return caracter.isdigit()\n",
    "\n",
    "caracter = input(\"Introduce un carácter: \")\n",
    "print(esDigito(caracter))\n"
   ]
  },
  {
   "cell_type": "code",
   "execution_count": null,
   "metadata": {},
   "outputs": [],
   "source": [
    "def determinarTipoNumero(x):\n",
    "    if x > 0:\n",
    "        return f\"El número {x} es positivo\"\n",
    "    elif x < 0:\n",
    "        return f\"El número {x} es negativo\"\n",
    "    else:\n",
    "        return f\"El número {x} es el neutro para la suma\"\n",
    "\n",
    "x = float(input(\"Introduce un número real: \"))\n",
    "print(determinarTipoNumero(x))\n"
   ]
  },
  {
   "cell_type": "code",
   "execution_count": 9,
   "metadata": {},
   "outputs": [
    {
     "name": "stdout",
     "output_type": "stream",
     "text": [
      "True\n"
     ]
    }
   ],
   "source": [
    "def puntoEnCirculo(cx, cy, radio, px, py):\n",
    "    distancia = ((px - cx) ** 2 + (py - cy) ** 2) ** 0.5\n",
    "    return distancia <= radio\n",
    "\n",
    "cx, cy = map(float, input(\"Introduce las coordenadas del centro (separadas por espacio): \").split())\n",
    "radio = float(input(\"Introduce el radio del círculo: \"))\n",
    "px, py = map(float, input(\"Introduce las coordenadas del punto (separadas por espacio): \").split())\n",
    "\n",
    "print(puntoEnCirculo(cx, cy, radio, px, py))\n"
   ]
  },
  {
   "cell_type": "code",
   "execution_count": 10,
   "metadata": {},
   "outputs": [
    {
     "name": "stdout",
     "output_type": "stream",
     "text": [
      "True\n"
     ]
    }
   ],
   "source": [
    "def unTriangulo(a, b, c):\n",
    "    return a + b > c and a + c > b and b + c > a\n",
    "\n",
    "a, b, c = map(float, input(\"Introduce las tres longitudes (separadas por espacio): \").split())\n",
    "print(unTriangulo(a, b, c))\n"
   ]
  }
 ],
 "metadata": {
  "kernelspec": {
   "display_name": "Python 3",
   "language": "python",
   "name": "python3"
  },
  "language_info": {
   "codemirror_mode": {
    "name": "ipython",
    "version": 3
   },
   "file_extension": ".py",
   "mimetype": "text/x-python",
   "name": "python",
   "nbconvert_exporter": "python",
   "pygments_lexer": "ipython3",
   "version": "3.11.6"
  }
 },
 "nbformat": 4,
 "nbformat_minor": 2
}
